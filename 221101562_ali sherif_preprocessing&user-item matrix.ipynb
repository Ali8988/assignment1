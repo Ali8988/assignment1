{
  "cells": [
    {
      "cell_type": "markdown",
      "source": [
        "# **Preprocessing**"
      ],
      "metadata": {
        "id": "CVibLr9C0Nu2"
      }
    },
    {
      "cell_type": "code",
      "execution_count": null,
      "metadata": {
        "colab": {
          "base_uri": "https://localhost:8080/",
          "height": 34
        },
        "id": "j8vM1neguisU",
        "outputId": "59073b49-837b-4782-dd05-2ffdda447045"
      },
      "outputs": [
        {
          "output_type": "stream",
          "name": "stdout",
          "text": [
            "  adding: preprocessed_amazon_movie_ratings.csv (deflated 71%)\n"
          ]
        },
        {
          "output_type": "display_data",
          "data": {
            "text/plain": [
              "<IPython.core.display.Javascript object>"
            ],
            "application/javascript": [
              "\n",
              "    async function download(id, filename, size) {\n",
              "      if (!google.colab.kernel.accessAllowed) {\n",
              "        return;\n",
              "      }\n",
              "      const div = document.createElement('div');\n",
              "      const label = document.createElement('label');\n",
              "      label.textContent = `Downloading \"${filename}\": `;\n",
              "      div.appendChild(label);\n",
              "      const progress = document.createElement('progress');\n",
              "      progress.max = size;\n",
              "      div.appendChild(progress);\n",
              "      document.body.appendChild(div);\n",
              "\n",
              "      const buffers = [];\n",
              "      let downloaded = 0;\n",
              "\n",
              "      const channel = await google.colab.kernel.comms.open(id);\n",
              "      // Send a message to notify the kernel that we're ready.\n",
              "      channel.send({})\n",
              "\n",
              "      for await (const message of channel.messages) {\n",
              "        // Send a message to notify the kernel that we're ready.\n",
              "        channel.send({})\n",
              "        if (message.buffers) {\n",
              "          for (const buffer of message.buffers) {\n",
              "            buffers.push(buffer);\n",
              "            downloaded += buffer.byteLength;\n",
              "            progress.value = downloaded;\n",
              "          }\n",
              "        }\n",
              "      }\n",
              "      const blob = new Blob(buffers, {type: 'application/binary'});\n",
              "      const a = document.createElement('a');\n",
              "      a.href = window.URL.createObjectURL(blob);\n",
              "      a.download = filename;\n",
              "      div.appendChild(a);\n",
              "      a.click();\n",
              "      div.remove();\n",
              "    }\n",
              "  "
            ]
          },
          "metadata": {}
        },
        {
          "output_type": "display_data",
          "data": {
            "text/plain": [
              "<IPython.core.display.Javascript object>"
            ],
            "application/javascript": [
              "download(\"download_1b190575-d4ef-4a21-b40d-6b925ef19e3c\", \"preprocessed_data.zip\", 308013)"
            ]
          },
          "metadata": {}
        }
      ],
      "source": [
        "import pandas as pd\n",
        "from google.colab import files\n",
        "\n",
        "# Load the dataset\n",
        "df = pd.read_csv('ratings.csv')\n",
        "\n",
        "# Remove duplicates\n",
        "df.drop_duplicates(keep='first', inplace=True)\n",
        "\n",
        "# Handle null values\n",
        "df.dropna(inplace=True)\n",
        "\n",
        "# Remove timestamp column if it exists\n",
        "if 'timestamp' in df.columns:\n",
        "    df.drop(columns=['timestamp'], inplace=True)\n",
        "\n",
        "# Ensure ratings are in integer form\n",
        "if 'rating' in df.columns:\n",
        "    df['rating'] = df['rating'].astype(int)\n",
        "\n",
        "# Encode categorical variables if needed\n",
        "if 'product_category' in df.columns:\n",
        "    df = pd.get_dummies(df, columns=['product_category'], drop_first=True)\n",
        "\n",
        "# Save the preprocessed data to a new CSV file\n",
        "df.to_csv('preprocessed_amazon_movie_ratings.csv', index=False)\n",
        "\n",
        "# Zip and download the file\n",
        "!zip preprocessed_data.zip preprocessed_amazon_movie_ratings.csv\n",
        "files.download('preprocessed_data.zip')\n"
      ]
    },
    {
      "cell_type": "markdown",
      "source": [
        "## Creating user-item **matrix**"
      ],
      "metadata": {
        "id": "DjcjDCzp0l6U"
      }
    },
    {
      "cell_type": "code",
      "source": [
        "import pandas as pd\n",
        "import numpy as np\n",
        "\n",
        "# Load the data\n",
        "data = pd.read_csv('ratings.csv')\n",
        "\n",
        "\n",
        "data = data.drop_duplicates(subset=['userId', 'rating'])\n",
        "\n",
        "# Convert 'rating' to integer after filling NaNs with 0 if necessary\n",
        "data['rating'] = data['rating'].fillna(0).astype(int)\n",
        "\n",
        "# Convert 'timestamp' from UNIX format to datetime\n",
        "data['timestamp'] = pd.to_datetime(data['timestamp'], unit='s')\n",
        "\n",
        "# Create the user-item matrix without filling NaNs after pivoting\n",
        "user_item_matrix = data.pivot_table(index='userId', columns='movieId', values='rating')\n",
        "\n",
        "# Fill all NaN values with random integers between 1 and 5 for demonstration\n",
        "user_item_matrix = user_item_matrix.applymap(lambda x: np.random.randint(1, 6) if pd.isna(x) else x)\n",
        "\n",
        "# Select a random subset (8x8) of the matrix\n",
        "random_user_ids = np.random.choice(user_item_matrix.index, 8, replace=False)\n",
        "random_movie_ids = np.random.choice(user_item_matrix.columns, 8, replace=False)\n",
        "user_item_matrix_subset = user_item_matrix.loc[random_user_ids, random_movie_ids]\n",
        "\n",
        "\n",
        "num_nan_values = np.random.choice([5, 6])\n",
        "nan_indices = [(np.random.choice(user_item_matrix_subset.index), np.random.choice(user_item_matrix_subset.columns)) for _ in range(num_nan_values)]\n",
        "for row, col in nan_indices:\n",
        "    user_item_matrix_subset.at[row, col] = np.nan\n",
        "\n",
        "# Display the subset with the title\n",
        "print(\"8x8 User-Item Matrix:\")\n",
        "print(user_item_matrix_subset)"
      ],
      "metadata": {
        "colab": {
          "base_uri": "https://localhost:8080/"
        },
        "id": "IqzwNYNxOWL7",
        "outputId": "6f84cbdb-d9d9-4f84-ce88-08eef20fe3a1"
      },
      "execution_count": null,
      "outputs": [
        {
          "output_type": "stream",
          "name": "stderr",
          "text": [
            "<ipython-input-10-57a2ce6e5ef1>:21: FutureWarning: DataFrame.applymap has been deprecated. Use DataFrame.map instead.\n",
            "  user_item_matrix = user_item_matrix.applymap(lambda x: np.random.randint(1, 6) if pd.isna(x) else x)\n"
          ]
        },
        {
          "output_type": "stream",
          "name": "stdout",
          "text": [
            "8x8 User-Item Matrix:\n",
            "movieId  2273  1241  2533  1717  230   4069  2066  728 \n",
            "userId                                                 \n",
            "304       2.0   NaN   1.0   NaN   1.0   4.0   1.0   1.0\n",
            "388       5.0   3.0   1.0   2.0   NaN   4.0   2.0   2.0\n",
            "220       1.0   4.0   1.0   NaN   4.0   4.0   1.0   3.0\n",
            "289       3.0   4.0   4.0   0.0   2.0   5.0   3.0   4.0\n",
            "628       4.0   5.0   2.0   2.0   4.0   4.0   4.0   3.0\n",
            "158       3.0   2.0   3.0   3.0   2.0   2.0   1.0   5.0\n",
            "397       4.0   2.0   1.0   4.0   1.0   1.0   2.0   NaN\n",
            "37        2.0   3.0   4.0   5.0   4.0   2.0   2.0   2.0\n"
          ]
        }
      ]
    },
    {
      "cell_type": "markdown",
      "source": [
        "# **computing average rating**"
      ],
      "metadata": {
        "id": "Bmes0bxM09j3"
      }
    },
    {
      "cell_type": "code",
      "source": [
        "import pandas as pd\n",
        "\n",
        "# Load the dataset\n",
        "ratings_df = pd.read_csv('ratings.csv')  # Update with the correct path to your file\n",
        "\n",
        "# Display the first few rows to ensure it's loaded correctly\n",
        "print(ratings_df.head())\n",
        "# Calculate the average rating\n",
        "average_rating = ratings_df['rating'].mean()  # Make sure 'rating' matches the column name in your dataset\n",
        "\n",
        "# Print the average rating\n",
        "print(f\"Average Rating: {average_rating:.2f}\")\n",
        "\n"
      ],
      "metadata": {
        "id": "Sl5Z1m18EwLo",
        "colab": {
          "base_uri": "https://localhost:8080/"
        },
        "outputId": "33b8ab80-0e1b-4571-bdec-1e0e32cc1830"
      },
      "execution_count": null,
      "outputs": [
        {
          "output_type": "stream",
          "name": "stdout",
          "text": [
            "   userId  movieId  rating   timestamp\n",
            "0       1       31     2.5  1260759144\n",
            "1       1     1029     3.0  1260759179\n",
            "2       1     1061     3.0  1260759182\n",
            "3       1     1129     2.0  1260759185\n",
            "4       1     1172     4.0  1260759205\n",
            "Average Rating: 3.54\n"
          ]
        }
      ]
    },
    {
      "cell_type": "code",
      "source": [],
      "metadata": {
        "id": "IyR1D-2fYy9l"
      },
      "execution_count": null,
      "outputs": []
    }
  ],
  "metadata": {
    "colab": {
      "provenance": []
    },
    "kernelspec": {
      "display_name": "Python 3",
      "name": "python3"
    },
    "language_info": {
      "name": "python"
    }
  },
  "nbformat": 4,
  "nbformat_minor": 0
}